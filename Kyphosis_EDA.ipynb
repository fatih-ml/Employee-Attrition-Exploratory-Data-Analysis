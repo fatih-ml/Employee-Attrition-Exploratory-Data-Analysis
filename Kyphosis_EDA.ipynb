{
 "cells": [
  {
   "cell_type": "markdown",
   "id": "403a411a-4932-421f-ada2-49483525fb16",
   "metadata": {},
   "source": [
    "# PROJECT-2: Kyphosis (Kamburluk) Exploratory Data Analysis"
   ]
  },
  {
   "cell_type": "markdown",
   "id": "154ea81c-ebc5-4ee0-9263-ae14f94671f8",
   "metadata": {
    "execution": {
     "iopub.execute_input": "2023-10-05T10:44:34.331333Z",
     "iopub.status.busy": "2023-10-05T10:44:34.330829Z",
     "iopub.status.idle": "2023-10-05T10:44:34.767359Z",
     "shell.execute_reply": "2023-10-05T10:44:34.767359Z",
     "shell.execute_reply.started": "2023-10-05T10:44:34.331333Z"
    }
   },
   "source": [
    "- In this project, we will perform basic Exploratory Data Analysis (EDA) on the Kyphosis disease Dataset. \n",
    "- Kyphosis is an abnormally excessive convex curvature of the spine. \n",
    "- Dataset contains 81 rows and 4 columns representing data on children who have had corrective spinal surgery. \n",
    "    - INPUTS: 1. Age: in months, 2. Number: the number of vertebrae involved, 3. Start: the number of the first (topmost) vertebra operated on.\n",
    "    - OUTPUTS: Kyphosis which represents a factor with levels absent present indicating if a kyphosis (a type of deformation) was present after the operation.\n",
    "- Using the “kyphosis.csv\" included in the course package, write a python script to perform the following tasks:\n",
    "    1. Import the “kyphosis.csv\" file using Pandas\n",
    "    2. Perform basic Exploratory Data Analysis (EDA) on the data       \n",
    "    3. List the average, minimum and maximum age (in years) considered in this study using 2 methods\n",
    "    4. Plot the correlation matrix \n",
    "    5. Convert the age column datatype from int64 to float64\n",
    "    6. Define a function that converts age from months to years \n",
    "    7. Apply the function to the “Age” column and add the results into a new column entitled “Age in Years” \n",
    "    8. What are the features of the oldest and youngest child in this study?\n",
    "    9. Scale the raw Age column (in months) using both standardization and Normalization. Perform a sanity check.    \n",
    "    10. Normalization is conducted on the 'Age' column to make feature values range from 0 to 1."
   ]
  },
  {
   "cell_type": "markdown",
   "id": "a5cfb0a0-53df-4481-b1f9-522c2a4a1eca",
   "metadata": {},
   "source": [
    "## Import dependencies"
   ]
  },
  {
   "cell_type": "code",
   "execution_count": 39,
   "id": "b2de01ca-d198-4b73-ae11-00c863dfa1bf",
   "metadata": {
    "execution": {
     "iopub.execute_input": "2023-10-05T19:25:17.811987Z",
     "iopub.status.busy": "2023-10-05T19:25:17.811987Z",
     "iopub.status.idle": "2023-10-05T19:25:17.829141Z",
     "shell.execute_reply": "2023-10-05T19:25:17.828140Z",
     "shell.execute_reply.started": "2023-10-05T19:25:17.811987Z"
    }
   },
   "outputs": [],
   "source": [
    "import pandas as pd\n",
    "import numpy as np\n",
    "import matplotlib.pyplot as plt\n",
    "import seaborn as sns\n",
    "from sklearn.preprocessing import MinMaxScaler, StandardScaler\n",
    "\n",
    "import warnings\n",
    "warnings.filterwarnings('ignore')"
   ]
  },
  {
   "cell_type": "markdown",
   "id": "c643b867-aa55-4c40-93fd-ddbd19855fe8",
   "metadata": {},
   "source": [
    "## Load the dataset"
   ]
  },
  {
   "cell_type": "code",
   "execution_count": 40,
   "id": "4655cae8-19ae-40ef-94b6-39207920ee67",
   "metadata": {
    "execution": {
     "iopub.execute_input": "2023-10-05T19:25:17.830289Z",
     "iopub.status.busy": "2023-10-05T19:25:17.830289Z",
     "iopub.status.idle": "2023-10-05T19:25:17.845086Z",
     "shell.execute_reply": "2023-10-05T19:25:17.844086Z",
     "shell.execute_reply.started": "2023-10-05T19:25:17.830289Z"
    }
   },
   "outputs": [
    {
     "data": {
      "text/html": [
       "<div>\n",
       "<style scoped>\n",
       "    .dataframe tbody tr th:only-of-type {\n",
       "        vertical-align: middle;\n",
       "    }\n",
       "\n",
       "    .dataframe tbody tr th {\n",
       "        vertical-align: top;\n",
       "    }\n",
       "\n",
       "    .dataframe thead th {\n",
       "        text-align: right;\n",
       "    }\n",
       "</style>\n",
       "<table border=\"1\" class=\"dataframe\">\n",
       "  <thead>\n",
       "    <tr style=\"text-align: right;\">\n",
       "      <th></th>\n",
       "      <th>Kyphosis</th>\n",
       "      <th>Age</th>\n",
       "      <th>Number</th>\n",
       "      <th>Start</th>\n",
       "    </tr>\n",
       "  </thead>\n",
       "  <tbody>\n",
       "    <tr>\n",
       "      <th>0</th>\n",
       "      <td>absent</td>\n",
       "      <td>71</td>\n",
       "      <td>3</td>\n",
       "      <td>5</td>\n",
       "    </tr>\n",
       "    <tr>\n",
       "      <th>1</th>\n",
       "      <td>absent</td>\n",
       "      <td>158</td>\n",
       "      <td>3</td>\n",
       "      <td>14</td>\n",
       "    </tr>\n",
       "    <tr>\n",
       "      <th>2</th>\n",
       "      <td>present</td>\n",
       "      <td>128</td>\n",
       "      <td>4</td>\n",
       "      <td>5</td>\n",
       "    </tr>\n",
       "    <tr>\n",
       "      <th>3</th>\n",
       "      <td>absent</td>\n",
       "      <td>2</td>\n",
       "      <td>5</td>\n",
       "      <td>1</td>\n",
       "    </tr>\n",
       "    <tr>\n",
       "      <th>4</th>\n",
       "      <td>absent</td>\n",
       "      <td>1</td>\n",
       "      <td>4</td>\n",
       "      <td>15</td>\n",
       "    </tr>\n",
       "  </tbody>\n",
       "</table>\n",
       "</div>"
      ],
      "text/plain": [
       "  Kyphosis  Age  Number  Start\n",
       "0   absent   71       3      5\n",
       "1   absent  158       3     14\n",
       "2  present  128       4      5\n",
       "3   absent    2       5      1\n",
       "4   absent    1       4     15"
      ]
     },
     "execution_count": 40,
     "metadata": {},
     "output_type": "execute_result"
    }
   ],
   "source": [
    "df = pd.read_csv('kyphosis.csv')\n",
    "df.head()"
   ]
  },
  {
   "cell_type": "markdown",
   "id": "5b313c45-a82b-49b0-a290-0a993375bcc8",
   "metadata": {},
   "source": [
    "## Initial Observations"
   ]
  },
  {
   "cell_type": "code",
   "execution_count": 41,
   "id": "1e82f3c1-ed3e-4d5b-a68e-eab4408b9d45",
   "metadata": {
    "execution": {
     "iopub.execute_input": "2023-10-05T19:25:17.846989Z",
     "iopub.status.busy": "2023-10-05T19:25:17.845973Z",
     "iopub.status.idle": "2023-10-05T19:25:17.860304Z",
     "shell.execute_reply": "2023-10-05T19:25:17.859223Z",
     "shell.execute_reply.started": "2023-10-05T19:25:17.846989Z"
    }
   },
   "outputs": [
    {
     "data": {
      "text/plain": [
       "(81, 4)"
      ]
     },
     "execution_count": 41,
     "metadata": {},
     "output_type": "execute_result"
    }
   ],
   "source": [
    "df.shape"
   ]
  },
  {
   "cell_type": "code",
   "execution_count": 42,
   "id": "6095ce26-30b5-4401-8fc9-afccd77df894",
   "metadata": {
    "execution": {
     "iopub.execute_input": "2023-10-05T19:25:17.863313Z",
     "iopub.status.busy": "2023-10-05T19:25:17.862319Z",
     "iopub.status.idle": "2023-10-05T19:25:17.875897Z",
     "shell.execute_reply": "2023-10-05T19:25:17.875347Z",
     "shell.execute_reply.started": "2023-10-05T19:25:17.863313Z"
    }
   },
   "outputs": [
    {
     "name": "stdout",
     "output_type": "stream",
     "text": [
      "<class 'pandas.core.frame.DataFrame'>\n",
      "RangeIndex: 81 entries, 0 to 80\n",
      "Data columns (total 4 columns):\n",
      " #   Column    Non-Null Count  Dtype \n",
      "---  ------    --------------  ----- \n",
      " 0   Kyphosis  81 non-null     object\n",
      " 1   Age       81 non-null     int64 \n",
      " 2   Number    81 non-null     int64 \n",
      " 3   Start     81 non-null     int64 \n",
      "dtypes: int64(3), object(1)\n",
      "memory usage: 2.7+ KB\n"
     ]
    }
   ],
   "source": [
    "df.info()"
   ]
  },
  {
   "cell_type": "code",
   "execution_count": 43,
   "id": "1cc7e148-7b95-4d8b-b0a3-475c61a68769",
   "metadata": {
    "execution": {
     "iopub.execute_input": "2023-10-05T19:25:17.877331Z",
     "iopub.status.busy": "2023-10-05T19:25:17.877331Z",
     "iopub.status.idle": "2023-10-05T19:25:17.892239Z",
     "shell.execute_reply": "2023-10-05T19:25:17.891239Z",
     "shell.execute_reply.started": "2023-10-05T19:25:17.877331Z"
    }
   },
   "outputs": [
    {
     "data": {
      "text/plain": [
       "False"
      ]
     },
     "execution_count": 43,
     "metadata": {},
     "output_type": "execute_result"
    }
   ],
   "source": [
    "df.isnull().any().any()"
   ]
  },
  {
   "cell_type": "markdown",
   "id": "deb62a7c-14a0-4a3b-8910-54695b887c6a",
   "metadata": {},
   "source": [
    "## List the average, minimum and maximum age (in years) considered in this study using 2 methods"
   ]
  },
  {
   "cell_type": "code",
   "execution_count": 44,
   "id": "8dc8e89b-11fe-4982-89b9-069ac458ea5c",
   "metadata": {
    "execution": {
     "iopub.execute_input": "2023-10-05T19:25:17.893465Z",
     "iopub.status.busy": "2023-10-05T19:25:17.893465Z",
     "iopub.status.idle": "2023-10-05T19:25:17.907899Z",
     "shell.execute_reply": "2023-10-05T19:25:17.907351Z",
     "shell.execute_reply.started": "2023-10-05T19:25:17.893465Z"
    }
   },
   "outputs": [
    {
     "data": {
      "text/plain": [
       "mean     6\n",
       "min      0\n",
       "max     17\n",
       "Name: Age, dtype: int32"
      ]
     },
     "execution_count": 44,
     "metadata": {},
     "output_type": "execute_result"
    }
   ],
   "source": [
    "df['Age'].describe().loc[['mean', 'min', 'max']].div(12).astype('int')"
   ]
  },
  {
   "cell_type": "markdown",
   "id": "ee6973fd-75ef-4618-b935-4e78e59a7e1f",
   "metadata": {},
   "source": [
    "As we see above, the average of 81 patiences is 6 years  \n",
    "the ages are varying from 0 to 17"
   ]
  },
  {
   "cell_type": "code",
   "execution_count": 45,
   "id": "b6c043b8-ccef-4a69-8154-8d0ec406e937",
   "metadata": {
    "execution": {
     "iopub.execute_input": "2023-10-05T19:25:17.909923Z",
     "iopub.status.busy": "2023-10-05T19:25:17.908906Z",
     "iopub.status.idle": "2023-10-05T19:25:17.923677Z",
     "shell.execute_reply": "2023-10-05T19:25:17.922633Z",
     "shell.execute_reply.started": "2023-10-05T19:25:17.909923Z"
    }
   },
   "outputs": [
    {
     "name": "stdout",
     "output_type": "stream",
     "text": [
      "As we see above, the average of 81 patiences is  6 \n",
      "the ages are varying from 0 to 17   \n"
     ]
    }
   ],
   "source": [
    "# we can check these values by pandas dataframe manipulation as well\n",
    "\n",
    "print(f\"As we see above, the average of {df['Age'].count()} patiences is  {int(df['Age'].mean()/12)} \\n\"\n",
    "      f\"the ages are varying from {int(df['Age'].min()/12)} to {int(df['Age'].max()/12)}   \")"
   ]
  },
  {
   "cell_type": "markdown",
   "id": "3971af9a-7324-4484-98ff-3ca0314c1009",
   "metadata": {},
   "source": [
    "## Plotting the correlation matrix"
   ]
  },
  {
   "cell_type": "code",
   "execution_count": 46,
   "id": "639c8e37-bece-40b6-9741-5ac0d26ab965",
   "metadata": {
    "execution": {
     "iopub.execute_input": "2023-10-05T19:25:17.923677Z",
     "iopub.status.busy": "2023-10-05T19:25:17.923677Z",
     "iopub.status.idle": "2023-10-05T19:25:17.939602Z",
     "shell.execute_reply": "2023-10-05T19:25:17.938523Z",
     "shell.execute_reply.started": "2023-10-05T19:25:17.923677Z"
    }
   },
   "outputs": [
    {
     "data": {
      "text/html": [
       "<div>\n",
       "<style scoped>\n",
       "    .dataframe tbody tr th:only-of-type {\n",
       "        vertical-align: middle;\n",
       "    }\n",
       "\n",
       "    .dataframe tbody tr th {\n",
       "        vertical-align: top;\n",
       "    }\n",
       "\n",
       "    .dataframe thead th {\n",
       "        text-align: right;\n",
       "    }\n",
       "</style>\n",
       "<table border=\"1\" class=\"dataframe\">\n",
       "  <thead>\n",
       "    <tr style=\"text-align: right;\">\n",
       "      <th></th>\n",
       "      <th>Age</th>\n",
       "      <th>Number</th>\n",
       "      <th>Start</th>\n",
       "    </tr>\n",
       "  </thead>\n",
       "  <tbody>\n",
       "    <tr>\n",
       "      <th>Age</th>\n",
       "      <td>1.000000</td>\n",
       "      <td>-0.016687</td>\n",
       "      <td>0.057828</td>\n",
       "    </tr>\n",
       "    <tr>\n",
       "      <th>Number</th>\n",
       "      <td>-0.016687</td>\n",
       "      <td>1.000000</td>\n",
       "      <td>-0.425099</td>\n",
       "    </tr>\n",
       "    <tr>\n",
       "      <th>Start</th>\n",
       "      <td>0.057828</td>\n",
       "      <td>-0.425099</td>\n",
       "      <td>1.000000</td>\n",
       "    </tr>\n",
       "  </tbody>\n",
       "</table>\n",
       "</div>"
      ],
      "text/plain": [
       "             Age    Number     Start\n",
       "Age     1.000000 -0.016687  0.057828\n",
       "Number -0.016687  1.000000 -0.425099\n",
       "Start   0.057828 -0.425099  1.000000"
      ]
     },
     "execution_count": 46,
     "metadata": {},
     "output_type": "execute_result"
    }
   ],
   "source": [
    "corr_matrix = df.corr()\n",
    "corr_matrix"
   ]
  },
  {
   "cell_type": "code",
   "execution_count": 47,
   "id": "1183dabb-69e2-4b6b-a823-285bb8b687ad",
   "metadata": {
    "execution": {
     "iopub.execute_input": "2023-10-05T19:25:17.940628Z",
     "iopub.status.busy": "2023-10-05T19:25:17.940628Z",
     "iopub.status.idle": "2023-10-05T19:25:18.062290Z",
     "shell.execute_reply": "2023-10-05T19:25:18.062290Z",
     "shell.execute_reply.started": "2023-10-05T19:25:17.940628Z"
    }
   },
   "outputs": [
    {
     "data": {
      "image/png": "[encoded data removed]",
      "text/plain": [
       "<Figure size 640x480 with 2 Axes>"
      ]
     },
     "metadata": {},
     "output_type": "display_data"
    }
   ],
   "source": [
    "sns.heatmap(corr_matrix, cmap='coolwarm')\n",
    "plt.show()"
   ]
  },
  {
   "cell_type": "markdown",
   "id": "e38a5b29-2cb7-404c-aeac-5776e4deccda",
   "metadata": {},
   "source": [
    "## Convert the age column datatype from int64 to float64"
   ]
  },
  {
   "cell_type": "code",
   "execution_count": 48,
   "id": "6978cbaf-c34d-42c0-9fd0-5821cb1e90ec",
   "metadata": {
    "execution": {
     "iopub.execute_input": "2023-10-05T19:25:18.065161Z",
     "iopub.status.busy": "2023-10-05T19:25:18.065161Z",
     "iopub.status.idle": "2023-10-05T19:25:18.079140Z",
     "shell.execute_reply": "2023-10-05T19:25:18.078140Z",
     "shell.execute_reply.started": "2023-10-05T19:25:18.065161Z"
    }
   },
   "outputs": [
    {
     "data": {
      "text/plain": [
       "0      71.0\n",
       "1     158.0\n",
       "2     128.0\n",
       "3       2.0\n",
       "4       1.0\n",
       "      ...  \n",
       "76    157.0\n",
       "77     26.0\n",
       "78    120.0\n",
       "79     42.0\n",
       "80     36.0\n",
       "Name: Age, Length: 81, dtype: float64"
      ]
     },
     "execution_count": 48,
     "metadata": {},
     "output_type": "execute_result"
    }
   ],
   "source": [
    "df['Age'] = df['Age'].astype('float64')\n",
    "df['Age']"
   ]
  },
  {
   "cell_type": "markdown",
   "id": "2618b6cf-323e-45ef-9be6-3c0830e4ab64",
   "metadata": {},
   "source": [
    "## Define a function that converts age from months to years"
   ]
  },
  {
   "cell_type": "code",
   "execution_count": 49,
   "id": "46f3884d-b2cc-4d93-a283-5991dcfb742e",
   "metadata": {
    "execution": {
     "iopub.execute_input": "2023-10-05T19:25:24.533366Z",
     "iopub.status.busy": "2023-10-05T19:25:24.533366Z",
     "iopub.status.idle": "2023-10-05T19:25:24.545863Z",
     "shell.execute_reply": "2023-10-05T19:25:24.545356Z",
     "shell.execute_reply.started": "2023-10-05T19:25:24.533366Z"
    }
   },
   "outputs": [],
   "source": [
    "def month_to_year(months):\n",
    "    year = round(months/12, 1)\n",
    "    return year"
   ]
  },
  {
   "cell_type": "markdown",
   "id": "0c9c6afa-e87f-4f68-9c74-04f774c24f20",
   "metadata": {},
   "source": [
    "## Apply the function to the “Age” column and add the results into a new column entitled “Age in Years”"
   ]
  },
  {
   "cell_type": "code",
   "execution_count": 50,
   "id": "67b18f98-7b6f-4d31-a74b-4990040e9d5e",
   "metadata": {
    "execution": {
     "iopub.execute_input": "2023-10-05T19:25:30.790347Z",
     "iopub.status.busy": "2023-10-05T19:25:30.789347Z",
     "iopub.status.idle": "2023-10-05T19:25:30.803599Z",
     "shell.execute_reply": "2023-10-05T19:25:30.803599Z",
     "shell.execute_reply.started": "2023-10-05T19:25:30.790347Z"
    }
   },
   "outputs": [],
   "source": [
    "df['Age_in_years'] = df['Age'].apply(month_to_year)"
   ]
  },
  {
   "cell_type": "code",
   "execution_count": 51,
   "id": "4a864a8c-3c61-4a39-bc62-588ff92c34dc",
   "metadata": {
    "execution": {
     "iopub.execute_input": "2023-10-05T19:25:33.023959Z",
     "iopub.status.busy": "2023-10-05T19:25:33.023454Z",
     "iopub.status.idle": "2023-10-05T19:25:33.037202Z",
     "shell.execute_reply": "2023-10-05T19:25:33.036189Z",
     "shell.execute_reply.started": "2023-10-05T19:25:33.023959Z"
    }
   },
   "outputs": [
    {
     "data": {
      "text/html": [
       "<div>\n",
       "<style scoped>\n",
       "    .dataframe tbody tr th:only-of-type {\n",
       "        vertical-align: middle;\n",
       "    }\n",
       "\n",
       "    .dataframe tbody tr th {\n",
       "        vertical-align: top;\n",
       "    }\n",
       "\n",
       "    .dataframe thead th {\n",
       "        text-align: right;\n",
       "    }\n",
       "</style>\n",
       "<table border=\"1\" class=\"dataframe\">\n",
       "  <thead>\n",
       "    <tr style=\"text-align: right;\">\n",
       "      <th></th>\n",
       "      <th>Kyphosis</th>\n",
       "      <th>Age</th>\n",
       "      <th>Number</th>\n",
       "      <th>Start</th>\n",
       "      <th>Age_in_years</th>\n",
       "    </tr>\n",
       "  </thead>\n",
       "  <tbody>\n",
       "    <tr>\n",
       "      <th>0</th>\n",
       "      <td>absent</td>\n",
       "      <td>71.0</td>\n",
       "      <td>3</td>\n",
       "      <td>5</td>\n",
       "      <td>5.9</td>\n",
       "    </tr>\n",
       "    <tr>\n",
       "      <th>1</th>\n",
       "      <td>absent</td>\n",
       "      <td>158.0</td>\n",
       "      <td>3</td>\n",
       "      <td>14</td>\n",
       "      <td>13.2</td>\n",
       "    </tr>\n",
       "    <tr>\n",
       "      <th>2</th>\n",
       "      <td>present</td>\n",
       "      <td>128.0</td>\n",
       "      <td>4</td>\n",
       "      <td>5</td>\n",
       "      <td>10.7</td>\n",
       "    </tr>\n",
       "  </tbody>\n",
       "</table>\n",
       "</div>"
      ],
      "text/plain": [
       "  Kyphosis    Age  Number  Start  Age_in_years\n",
       "0   absent   71.0       3      5           5.9\n",
       "1   absent  158.0       3     14          13.2\n",
       "2  present  128.0       4      5          10.7"
      ]
     },
     "execution_count": 51,
     "metadata": {},
     "output_type": "execute_result"
    }
   ],
   "source": [
    "df.head(3)"
   ]
  },
  {
   "cell_type": "markdown",
   "id": "118ef337-807f-4cb6-97a0-286580531d9e",
   "metadata": {},
   "source": [
    "## What are the features of the oldest and youngest child in this study?"
   ]
  },
  {
   "cell_type": "code",
   "execution_count": 57,
   "id": "23222e2c-c896-43e9-be6a-bc11c205bd94",
   "metadata": {
    "execution": {
     "iopub.execute_input": "2023-10-05T19:30:25.551479Z",
     "iopub.status.busy": "2023-10-05T19:30:25.550349Z",
     "iopub.status.idle": "2023-10-05T19:30:25.573606Z",
     "shell.execute_reply": "2023-10-05T19:30:25.573606Z",
     "shell.execute_reply.started": "2023-10-05T19:30:25.551479Z"
    }
   },
   "outputs": [
    {
     "data": {
      "text/html": [
       "<div>\n",
       "<style scoped>\n",
       "    .dataframe tbody tr th:only-of-type {\n",
       "        vertical-align: middle;\n",
       "    }\n",
       "\n",
       "    .dataframe tbody tr th {\n",
       "        vertical-align: top;\n",
       "    }\n",
       "\n",
       "    .dataframe thead th {\n",
       "        text-align: right;\n",
       "    }\n",
       "</style>\n",
       "<table border=\"1\" class=\"dataframe\">\n",
       "  <thead>\n",
       "    <tr style=\"text-align: right;\">\n",
       "      <th></th>\n",
       "      <th>Kyphosis</th>\n",
       "      <th>Age</th>\n",
       "      <th>Number</th>\n",
       "      <th>Start</th>\n",
       "      <th>Age_in_years</th>\n",
       "    </tr>\n",
       "  </thead>\n",
       "  <tbody>\n",
       "    <tr>\n",
       "      <th>4</th>\n",
       "      <td>absent</td>\n",
       "      <td>1.0</td>\n",
       "      <td>4</td>\n",
       "      <td>15</td>\n",
       "      <td>0.1</td>\n",
       "    </tr>\n",
       "    <tr>\n",
       "      <th>5</th>\n",
       "      <td>absent</td>\n",
       "      <td>1.0</td>\n",
       "      <td>2</td>\n",
       "      <td>16</td>\n",
       "      <td>0.1</td>\n",
       "    </tr>\n",
       "    <tr>\n",
       "      <th>13</th>\n",
       "      <td>absent</td>\n",
       "      <td>1.0</td>\n",
       "      <td>4</td>\n",
       "      <td>12</td>\n",
       "      <td>0.1</td>\n",
       "    </tr>\n",
       "    <tr>\n",
       "      <th>15</th>\n",
       "      <td>absent</td>\n",
       "      <td>1.0</td>\n",
       "      <td>3</td>\n",
       "      <td>16</td>\n",
       "      <td>0.1</td>\n",
       "    </tr>\n",
       "    <tr>\n",
       "      <th>36</th>\n",
       "      <td>absent</td>\n",
       "      <td>1.0</td>\n",
       "      <td>3</td>\n",
       "      <td>9</td>\n",
       "      <td>0.1</td>\n",
       "    </tr>\n",
       "    <tr>\n",
       "      <th>73</th>\n",
       "      <td>absent</td>\n",
       "      <td>206.0</td>\n",
       "      <td>4</td>\n",
       "      <td>10</td>\n",
       "      <td>17.2</td>\n",
       "    </tr>\n",
       "  </tbody>\n",
       "</table>\n",
       "</div>"
      ],
      "text/plain": [
       "   Kyphosis    Age  Number  Start  Age_in_years\n",
       "4    absent    1.0       4     15           0.1\n",
       "5    absent    1.0       2     16           0.1\n",
       "13   absent    1.0       4     12           0.1\n",
       "15   absent    1.0       3     16           0.1\n",
       "36   absent    1.0       3      9           0.1\n",
       "73   absent  206.0       4     10          17.2"
      ]
     },
     "execution_count": 57,
     "metadata": {},
     "output_type": "execute_result"
    }
   ],
   "source": [
    "df.loc[df['Age'].isin([df['Age'].min(), df['Age'].max()])]"
   ]
  },
  {
   "cell_type": "markdown",
   "id": "26cf39b6-9d7b-44a4-a38b-82b61122b89a",
   "metadata": {},
   "source": [
    "## Scale the raw Age column (in months) using both standardization and Normalization. Perform a sanity check."
   ]
  },
  {
   "cell_type": "code",
   "execution_count": 58,
   "id": "b7d59f64-9c66-468b-86fd-b1ab0af77402",
   "metadata": {
    "execution": {
     "iopub.execute_input": "2023-10-05T19:31:33.167422Z",
     "iopub.status.busy": "2023-10-05T19:31:33.167422Z",
     "iopub.status.idle": "2023-10-05T19:31:33.185495Z",
     "shell.execute_reply": "2023-10-05T19:31:33.183985Z",
     "shell.execute_reply.started": "2023-10-05T19:31:33.167422Z"
    }
   },
   "outputs": [],
   "source": [
    "from sklearn.preprocessing import MinMaxScaler, StandardScaler"
   ]
  },
  {
   "cell_type": "code",
   "execution_count": 60,
   "id": "49021e14-2431-408c-a264-7c9d8128a41e",
   "metadata": {
    "execution": {
     "iopub.execute_input": "2023-10-05T19:33:35.457462Z",
     "iopub.status.busy": "2023-10-05T19:33:35.457462Z",
     "iopub.status.idle": "2023-10-05T19:33:35.467043Z",
     "shell.execute_reply": "2023-10-05T19:33:35.465920Z",
     "shell.execute_reply.started": "2023-10-05T19:33:35.457462Z"
    }
   },
   "outputs": [],
   "source": [
    "minmax_scaler = MinMaxScaler()\n",
    "std_scaler    = StandardScaler()"
   ]
  },
  {
   "cell_type": "markdown",
   "id": "de75a59b-4259-4895-a30e-b367252af236",
   "metadata": {},
   "source": [
    "**both methods ask for a 2d input**"
   ]
  },
  {
   "cell_type": "code",
   "execution_count": 74,
   "id": "ee83067e-0b71-4afa-9676-ee33e4062b51",
   "metadata": {
    "execution": {
     "iopub.execute_input": "2023-10-05T20:00:52.642696Z",
     "iopub.status.busy": "2023-10-05T20:00:52.642696Z",
     "iopub.status.idle": "2023-10-05T20:00:52.650210Z",
     "shell.execute_reply": "2023-10-05T20:00:52.649639Z",
     "shell.execute_reply.started": "2023-10-05T20:00:52.642696Z"
    }
   },
   "outputs": [],
   "source": [
    "age_2d = df['Age'].values.reshape(-1,1)"
   ]
  },
  {
   "cell_type": "code",
   "execution_count": 75,
   "id": "949b23de-84c9-42fd-8723-b2e94c55c8fe",
   "metadata": {
    "execution": {
     "iopub.execute_input": "2023-10-05T20:00:54.642977Z",
     "iopub.status.busy": "2023-10-05T20:00:54.642977Z",
     "iopub.status.idle": "2023-10-05T20:00:54.668393Z",
     "shell.execute_reply": "2023-10-05T20:00:54.667384Z",
     "shell.execute_reply.started": "2023-10-05T20:00:54.642977Z"
    }
   },
   "outputs": [
    {
     "data": {
      "text/html": [
       "<div>\n",
       "<style scoped>\n",
       "    .dataframe tbody tr th:only-of-type {\n",
       "        vertical-align: middle;\n",
       "    }\n",
       "\n",
       "    .dataframe tbody tr th {\n",
       "        vertical-align: top;\n",
       "    }\n",
       "\n",
       "    .dataframe thead th {\n",
       "        text-align: right;\n",
       "    }\n",
       "</style>\n",
       "<table border=\"1\" class=\"dataframe\">\n",
       "  <thead>\n",
       "    <tr style=\"text-align: right;\">\n",
       "      <th></th>\n",
       "      <th>Kyphosis</th>\n",
       "      <th>Age</th>\n",
       "      <th>Number</th>\n",
       "      <th>Start</th>\n",
       "      <th>Age_in_years</th>\n",
       "      <th>Age_std</th>\n",
       "      <th>Age_norm</th>\n",
       "    </tr>\n",
       "  </thead>\n",
       "  <tbody>\n",
       "    <tr>\n",
       "      <th>0</th>\n",
       "      <td>absent</td>\n",
       "      <td>71.0</td>\n",
       "      <td>3</td>\n",
       "      <td>5</td>\n",
       "      <td>5.9</td>\n",
       "      <td>-0.219143</td>\n",
       "      <td>0.341463</td>\n",
       "    </tr>\n",
       "    <tr>\n",
       "      <th>1</th>\n",
       "      <td>absent</td>\n",
       "      <td>158.0</td>\n",
       "      <td>3</td>\n",
       "      <td>14</td>\n",
       "      <td>13.2</td>\n",
       "      <td>1.287494</td>\n",
       "      <td>0.765854</td>\n",
       "    </tr>\n",
       "    <tr>\n",
       "      <th>2</th>\n",
       "      <td>present</td>\n",
       "      <td>128.0</td>\n",
       "      <td>4</td>\n",
       "      <td>5</td>\n",
       "      <td>10.7</td>\n",
       "      <td>0.767964</td>\n",
       "      <td>0.619512</td>\n",
       "    </tr>\n",
       "    <tr>\n",
       "      <th>3</th>\n",
       "      <td>absent</td>\n",
       "      <td>2.0</td>\n",
       "      <td>5</td>\n",
       "      <td>1</td>\n",
       "      <td>0.2</td>\n",
       "      <td>-1.414063</td>\n",
       "      <td>0.004878</td>\n",
       "    </tr>\n",
       "    <tr>\n",
       "      <th>4</th>\n",
       "      <td>absent</td>\n",
       "      <td>1.0</td>\n",
       "      <td>4</td>\n",
       "      <td>15</td>\n",
       "      <td>0.1</td>\n",
       "      <td>-1.431381</td>\n",
       "      <td>0.000000</td>\n",
       "    </tr>\n",
       "  </tbody>\n",
       "</table>\n",
       "</div>"
      ],
      "text/plain": [
       "  Kyphosis    Age  Number  Start  Age_in_years   Age_std  Age_norm\n",
       "0   absent   71.0       3      5           5.9 -0.219143  0.341463\n",
       "1   absent  158.0       3     14          13.2  1.287494  0.765854\n",
       "2  present  128.0       4      5          10.7  0.767964  0.619512\n",
       "3   absent    2.0       5      1           0.2 -1.414063  0.004878\n",
       "4   absent    1.0       4     15           0.1 -1.431381  0.000000"
      ]
     },
     "execution_count": 75,
     "metadata": {},
     "output_type": "execute_result"
    }
   ],
   "source": [
    "df['Age_std'] = std_scaler.fit_transform(age_2d)\n",
    "df.head()"
   ]
  },
  {
   "cell_type": "code",
   "execution_count": 76,
   "id": "37c354b9-0c7a-4a58-aba7-d5d90a030d72",
   "metadata": {
    "execution": {
     "iopub.execute_input": "2023-10-05T20:00:59.916899Z",
     "iopub.status.busy": "2023-10-05T20:00:59.916486Z",
     "iopub.status.idle": "2023-10-05T20:00:59.931429Z",
     "shell.execute_reply": "2023-10-05T20:00:59.930052Z",
     "shell.execute_reply.started": "2023-10-05T20:00:59.916899Z"
    }
   },
   "outputs": [
    {
     "data": {
      "text/plain": [
       "1.0005713678720547e-16"
      ]
     },
     "execution_count": 76,
     "metadata": {},
     "output_type": "execute_result"
    }
   ],
   "source": [
    "df['Age_std'].mean()"
   ]
  },
  {
   "cell_type": "code",
   "execution_count": 77,
   "id": "292d4ce9-c704-46ce-b140-a749e8dc0ff4",
   "metadata": {
    "execution": {
     "iopub.execute_input": "2023-10-05T20:01:01.611943Z",
     "iopub.status.busy": "2023-10-05T20:01:01.611943Z",
     "iopub.status.idle": "2023-10-05T20:01:01.618981Z",
     "shell.execute_reply": "2023-10-05T20:01:01.618981Z",
     "shell.execute_reply.started": "2023-10-05T20:01:01.611943Z"
    }
   },
   "outputs": [
    {
     "data": {
      "text/plain": [
       "1.0062305898749055"
      ]
     },
     "execution_count": 77,
     "metadata": {},
     "output_type": "execute_result"
    }
   ],
   "source": [
    "df['Age_std'].std()"
   ]
  },
  {
   "cell_type": "code",
   "execution_count": 78,
   "id": "62f36aee-3164-4d7e-b435-74c108bd64d5",
   "metadata": {
    "execution": {
     "iopub.execute_input": "2023-10-05T20:01:15.396872Z",
     "iopub.status.busy": "2023-10-05T20:01:15.396872Z",
     "iopub.status.idle": "2023-10-05T20:01:15.419568Z",
     "shell.execute_reply": "2023-10-05T20:01:15.418568Z",
     "shell.execute_reply.started": "2023-10-05T20:01:15.396872Z"
    }
   },
   "outputs": [
    {
     "data": {
      "text/plain": [
       "count    81.000000\n",
       "mean      0.403192\n",
       "std       0.283435\n",
       "min       0.000000\n",
       "25%       0.121951\n",
       "50%       0.419512\n",
       "75%       0.629268\n",
       "max       1.000000\n",
       "Name: Age_norm, dtype: float64"
      ]
     },
     "execution_count": 78,
     "metadata": {},
     "output_type": "execute_result"
    }
   ],
   "source": [
    "df['Age_norm'] = minmax_scaler.fit_transform(age_2d)\n",
    "df['Age_norm'].describe().T"
   ]
  },
  {
   "cell_type": "code",
   "execution_count": null,
   "id": "78369d16-fcf6-4e7d-98d8-0773081c8783",
   "metadata": {},
   "outputs": [],
   "source": []
  }
 ],
 "metadata": {
  "kernelspec": {
   "display_name": "Python 3 (ipykernel)",
   "language": "python",
   "name": "python3"
  },
  "language_info": {
   "codemirror_mode": {
    "name": "ipython",
    "version": 3
   },
   "file_extension": ".py",
   "mimetype": "text/x-python",
   "name": "python",
   "nbconvert_exporter": "python",
   "pygments_lexer": "ipython3",
   "version": "3.10.8"
  }
 },
 "nbformat": 4,
 "nbformat_minor": 5
}
