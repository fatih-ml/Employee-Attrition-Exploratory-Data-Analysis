{
 "cells": [
  {
   "cell_type": "markdown",
   "id": "f2351ea9-c0a9-461f-9ab1-78098030e645",
   "metadata": {},
   "source": [
    "# EDA - Explarotary Data Analysis Capstone Project"
   ]
  },
  {
   "cell_type": "markdown",
   "id": "6b7f80f3-a3c5-47fd-9273-fd517cd6e5d6",
   "metadata": {},
   "source": [
    "**In this project, we tried to analyze human resources data by performing data wrangling and EDA**  \n",
    "By working on this project we will learn how to:  \n",
    "* Perform statistical analysis on real world data\n",
    "* Deal with missing data using pandas\n",
    "* Perform one-hot encoding\n",
    "* Perform scaling including normalization and standardization\n",
    "* Define a function and apply it to a Pandas DataFrame column\n",
    "* Perform Pandas operations and filtering\n",
    "* Calculate and display correlation matrix and heatmaps"
   ]
  },
  {
   "cell_type": "markdown",
   "id": "8ca709ad-4a00-4d2f-b764-b59ad0b982ef",
   "metadata": {},
   "source": [
    "# TASK-1: IMPORT DATASET AND PERFORM BASIC STATISTICAL DATA ANALYSIS"
   ]
  },
  {
   "cell_type": "markdown",
   "id": "77fbfd15-f71a-42f5-b342-4994956f5208",
   "metadata": {},
   "source": [
    "- **Import Pandas Library**\n",
    "\n",
    "- **Force Pandas to display all rows and columns**\n",
    "\n",
    "- **Let's read a CSV file using Pandas as follows**\n",
    "\n",
    "- **Let's obtain the datatype**\n",
    "\n",
    "- **you can view the first couple of rows using .head()**\n",
    "\n",
    "- **you can view the last couple of rows using .tail()**\n",
    "\n",
    "- **Calculate the average values for employee_df dataframe**\n",
    " \n",
    "- **35 features in total**\n",
    "\n",
    "- **Obtain a Statistical Summary about the data**"
   ]
  },
  {
   "cell_type": "code",
   "execution_count": 5,
   "id": "f9f77eac-9c74-48e3-9e9d-3e154e88050a",
   "metadata": {
    "execution": {
     "iopub.execute_input": "2023-10-04T22:11:09.644257Z",
     "iopub.status.busy": "2023-10-04T22:11:09.644257Z",
     "iopub.status.idle": "2023-10-04T22:11:09.659177Z",
     "shell.execute_reply": "2023-10-04T22:11:09.658172Z",
     "shell.execute_reply.started": "2023-10-04T22:11:09.644257Z"
    }
   },
   "outputs": [],
   "source": [
    "# Import pandas library\n",
    "\n",
    "import pandas as pd"
   ]
  },
  {
   "cell_type": "code",
   "execution_count": 6,
   "id": "d120136e-4d4a-45d1-b474-c4d20849d174",
   "metadata": {
    "execution": {
     "iopub.execute_input": "2023-10-04T22:11:12.196626Z",
     "iopub.status.busy": "2023-10-04T22:11:12.196626Z",
     "iopub.status.idle": "2023-10-04T22:11:12.205773Z",
     "shell.execute_reply": "2023-10-04T22:11:12.204735Z",
     "shell.execute_reply.started": "2023-10-04T22:11:12.196626Z"
    }
   },
   "outputs": [],
   "source": [
    "pd.set_option('display.max_columns', None)\n",
    "pd.set_option('display.max_rows', None)"
   ]
  },
  {
   "cell_type": "code",
   "execution_count": null,
   "id": "d0cd5227-f45a-4c59-acfd-aa6ced68bffc",
   "metadata": {},
   "outputs": [],
   "source": []
  },
  {
   "cell_type": "code",
   "execution_count": null,
   "id": "bb0e9301-71cb-4662-bb80-29e0ddc6ed30",
   "metadata": {},
   "outputs": [],
   "source": []
  }
 ],
 "metadata": {
  "kernelspec": {
   "display_name": "Python 3 (ipykernel)",
   "language": "python",
   "name": "python3"
  },
  "language_info": {
   "codemirror_mode": {
    "name": "ipython",
    "version": 3
   },
   "file_extension": ".py",
   "mimetype": "text/x-python",
   "name": "python",
   "nbconvert_exporter": "python",
   "pygments_lexer": "ipython3",
   "version": "3.10.8"
  }
 },
 "nbformat": 4,
 "nbformat_minor": 5
}
